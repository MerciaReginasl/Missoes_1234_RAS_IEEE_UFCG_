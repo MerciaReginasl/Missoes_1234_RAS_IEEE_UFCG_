{
 "cells": [
  {
   "cell_type": "code",
   "execution_count": 1,
   "id": "93f38495",
   "metadata": {},
   "outputs": [],
   "source": [
    "#PROCESSO SELETIVO CAPITULO RAS - IEEE UFCG\n",
    "#CANDIDATA: MERCIA REGINA DA SILVA\n",
    "\n",
    "#Missão 2.0: Conhecendo o OpenCV e Numpy "
   ]
  },
  {
   "cell_type": "code",
   "execution_count": 2,
   "id": "292192eb",
   "metadata": {},
   "outputs": [],
   "source": [
    "import cv2"
   ]
  },
  {
   "cell_type": "code",
   "execution_count": 3,
   "id": "aeb094b7",
   "metadata": {},
   "outputs": [],
   "source": [
    "import numpy as np"
   ]
  },
  {
   "cell_type": "code",
   "execution_count": 4,
   "id": "5b2a3a87",
   "metadata": {},
   "outputs": [],
   "source": [
    "# A Visão Computacional constroi sistemas artificiais obtendo as informações das imagens ou quaisquer \n",
    "# dados multidimensionais. Neste código a imagem de entrada passará por alterações em seu formato em cada execução.\n",
    "# Temos:"
   ]
  },
  {
   "cell_type": "code",
   "execution_count": 5,
   "id": "0e92b211",
   "metadata": {},
   "outputs": [],
   "source": [
    "# Iniciamos com a importação das bibliotecas Opencv - cv2 e a numpy para que os comandos sejam executados.\n",
    "# Neste In [12] temos a leitura da imagem com a função imread() que permite a importação de imagens de um \n",
    "# arquivo em vários formatos e a associação de cada pixel a um elemento de uma matriz.\n",
    "\n",
    "# A função imshow mostra a figura e podemos atribuir o nome a janela\n",
    "\n",
    "# E por fim a imagem é escrita, ou seja, gravada no disco."
   ]
  },
  {
   "cell_type": "code",
   "execution_count": null,
   "id": "26c4266f",
   "metadata": {},
   "outputs": [],
   "source": [
    "imagem = cv2.imread('/home/dell/Downloads/MEUS_DOCS_/projeto_opencv/coisas-incriveis-sobre-seu-cachorro.jpg')\n",
    "print('Largura em pixels: ', end='')\n",
    "print(imagem.shape[1]) #largura da imagem\n",
    "print('Altura em pixels: ', end='')\n",
    "print(imagem.shape[0]) #altura da imagem\n",
    "print('Qtde de canais: ', end='')\n",
    "print(imagem.shape[2])\n",
    "\n",
    "# Mostra a imagem com a função imshow\n",
    "cv2.imshow(\"My Dog Marley\", imagem)\n",
    "cv2.waitKey(0) #espera pressionar qualquer tecla\n",
    "# Salvar a imagem no disco com função imwrite()\n",
    "cv2.imwrite(\"/home/dell/Downloads/MEUS_DOCS_/projeto_opencv/coisas-incriveis-sobre-seu-cachorro.jpg\", imagem)"
   ]
  },
  {
   "cell_type": "code",
   "execution_count": null,
   "id": "6db1e169",
   "metadata": {},
   "outputs": [],
   "source": [
    "# E a função de leitura da imagem é executada novamente \n",
    "\n",
    "# A imagem é lida e armazenada "
   ]
  },
  {
   "cell_type": "code",
   "execution_count": null,
   "id": "22468ccd",
   "metadata": {},
   "outputs": [],
   "source": [
    "imagem = cv2.imread('/home/dell/Downloads/MEUS_DOCS_/projeto_opencv/coisas-incriveis-sobre-seu-cachorro.jpg')"
   ]
  },
  {
   "cell_type": "code",
   "execution_count": null,
   "id": "26425b28",
   "metadata": {},
   "outputs": [],
   "source": [
    "# Neste comando temos a mostra das caracteristicas da imagem que é uma matriz de 3 dimensões (3 canais):\n",
    "# RGB (R= red, G=green, B=Blue), porém neste comando a ordem está alterada, logo as cores em sequência as cores\n",
    "#serem lidas são B=blue, G=green e R=red"
   ]
  },
  {
   "cell_type": "code",
   "execution_count": null,
   "id": "59a5b638",
   "metadata": {},
   "outputs": [],
   "source": [
    " imagem = cv2.imread('/home/dell/Downloads/MEUS_DOCS_/projeto_opencv/coisas-incriveis-sobre-seu-cachorro.jpg')\n",
    "(b, g, r) = imagem[0, 0] "
   ]
  },
  {
   "cell_type": "code",
   "execution_count": null,
   "id": "b4866647",
   "metadata": {},
   "outputs": [],
   "source": [
    "# Neste comando será impresso o pixel seguindo a sequência de cores RGB que é a padrão."
   ]
  },
  {
   "cell_type": "code",
   "execution_count": null,
   "id": "f4c7d74b",
   "metadata": {},
   "outputs": [],
   "source": [
    "print('O pixel (0, 0) tem as seguintes cores:')\n",
    "print('Vermelho:', r, 'Verde:', g, 'Azul:', b)"
   ]
  },
  {
   "cell_type": "code",
   "execution_count": null,
   "id": "a636cd9f",
   "metadata": {},
   "outputs": [],
   "source": [
    "#A imagem representa uma matriz de inteiros onde cada célula é um inteiro sem sinal de 8 bits que representa o \n",
    "# sistema RGB, onde cada pixel da imagem é composta por 3 componentes de 8 bits.\n",
    "# Observa-se os valores acima, onde é indicado as cores (capacidade de reprodução) de cada cor atribuida."
   ]
  },
  {
   "cell_type": "code",
   "execution_count": null,
   "id": "9c69877b",
   "metadata": {},
   "outputs": [],
   "source": [
    "# A sequência de repetições dos eixos y e x que formam a imagem (no caso a imagem é horizontal)\n",
    "# for y in range(0, imagem.shape[0]): percorre linhas\n",
    "# for x in range(0, imagem.shape[1]): percorre colunas"
   ]
  },
  {
   "cell_type": "code",
   "execution_count": null,
   "id": "6cfe0424",
   "metadata": {},
   "outputs": [],
   "source": [
    "#A forma de uma imagem é acessada por img.shape. Ele retorna uma tupla do número de linhas, \n",
    "#colunas e canais neste comando a imagem é colorida): print (255,0,0)"
   ]
  },
  {
   "cell_type": "code",
   "execution_count": null,
   "id": "05d4bee2",
   "metadata": {},
   "outputs": [],
   "source": [
    "imagem = cv2.imread('/home/dell/Downloads/MEUS_DOCS_/projeto_opencv/coisas-incriveis-sobre-seu-cachorro.jpg')\n",
    "for y in range(0, imagem.shape[0]):\n",
    "for x in range(0, imagem.shape[1]):\n",
    "imagem[y, x] = (255,0,0)\n",
    "cv2.imshow(\"/home/dell/Downloads/MEUS_DOCS_/projeto_opencv/coisas-incriveis-sobre-seu-cachorro.jpg\", imagem)"
   ]
  },
  {
   "cell_type": "code",
   "execution_count": null,
   "id": "a4974b86",
   "metadata": {},
   "outputs": [],
   "source": [
    "#for y in range(0, imagem.shape[0]): percorre linhas\n",
    "# for x in range(0, imagem.shape[1]): percorre colunas\n",
    "\n",
    "# As variáveis componentes da cor devem assumir valores entre 0 e 255, neste caso foi atribuído x%256\n",
    "# (resto da divisão por 256), mantendo o resultado entre 0 e 255.\n",
    "\n",
    "# A alteração nas componentes das cores da imagem geram um efeito na imagem em formato de cubos coloridos (pixels)\n"
   ]
  },
  {
   "cell_type": "code",
   "execution_count": null,
   "id": "fc8d99a2",
   "metadata": {},
   "outputs": [],
   "source": [
    "imagem = cv2.imread('/home/dell/Downloads/MEUS_DOCS_/projeto_opencv/coisas-incriveis-sobre-seu-cachorro.jpg')\n",
    "for y in range(0, imagem.shape[0], 1): #percorre as linhas\n",
    "for x in range(0, imagem.shape[1], 1): #percorre as colunas\n",
    "imagem[y, x] = (0,(x*y)%256,0)\n",
    "cv2.imshow(\"/home/dell/Downloads/MEUS_DOCS_/projeto_opencv/coisas-incriveis-sobre-seu-cachorro.jpg\", imagem)\n",
    "cv2.waitKey(0)"
   ]
  },
  {
   "cell_type": "code",
   "execution_count": null,
   "id": "840febd5",
   "metadata": {},
   "outputs": [],
   "source": [
    "# No comando acima a alteração nas componentes das cores da imagem é realizada conforme as \n",
    "# coordenadas de linha e coluna "
   ]
  },
  {
   "cell_type": "code",
   "execution_count": null,
   "id": "5246d3f5",
   "metadata": {},
   "outputs": [],
   "source": [
    "imagem = cv2.imread('/home/dell/Downloads/MEUS_DOCS_/projeto_opencv/coisas-incriveis-sobre-seu-cachorro.jpg')\n",
    "for y in range(0, imagem.shape[0], 10): #percorre linhas\n",
    "for x in range(0, imagem.shape[1], 10): #percorre colunas\n",
    "imagem[y:y+5, x: x+5] = (0,255,255)\n",
    "cv2.imshow(\"/home/dell/Downloads/MEUS_DOCS_/projeto_opencv/coisas-incriveis-sobre-seu-cachorro.jpg\", imagem)\n",
    "cv2.waitKey(0)"
   ]
  },
  {
   "cell_type": "code",
   "execution_count": null,
   "id": "c8929893",
   "metadata": {},
   "outputs": [],
   "source": [
    "# Portanto, foram abordados nas execuções a representação de 3 cores no sistema RGB para cada pixel da imagem\n",
    "# colorida.\n",
    "\n",
    "# O sistema de coordenadas e maninpulação de pixel podemos alterar a cor individualmente para cada pixel e \n",
    "# podem se manipulados."
   ]
  }
 ],
 "metadata": {
  "kernelspec": {
   "display_name": "Python 3 (ipykernel)",
   "language": "python",
   "name": "python3"
  },
  "language_info": {
   "codemirror_mode": {
    "name": "ipython",
    "version": 3
   },
   "file_extension": ".py",
   "mimetype": "text/x-python",
   "name": "python",
   "nbconvert_exporter": "python",
   "pygments_lexer": "ipython3",
   "version": "3.10.12"
  }
 },
 "nbformat": 4,
 "nbformat_minor": 5
}
